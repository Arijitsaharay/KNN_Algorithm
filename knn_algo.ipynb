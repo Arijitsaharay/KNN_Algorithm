{
 "cells": [
  {
   "cell_type": "code",
   "execution_count": 123,
   "metadata": {},
   "outputs": [],
   "source": [
    "import pandas as pd\n",
    "import matplotlib.pyplot as plt\n",
    "import numpy as np\n",
    "from sklearn.model_selection import train_test_split\n",
    "from sklearn.preprocessing import StandardScaler\n",
    "from sklearn.neighbors import KNeighborsClassifier\n",
    "from sklearn.metrics import confusion_matrix\n",
    "from matplotlib.colors import ListedColormap"
   ]
  },
  {
   "cell_type": "code",
   "execution_count": 50,
   "metadata": {},
   "outputs": [
    {
     "data": {
      "text/html": [
       "<div>\n",
       "<style scoped>\n",
       "    .dataframe tbody tr th:only-of-type {\n",
       "        vertical-align: middle;\n",
       "    }\n",
       "\n",
       "    .dataframe tbody tr th {\n",
       "        vertical-align: top;\n",
       "    }\n",
       "\n",
       "    .dataframe thead th {\n",
       "        text-align: right;\n",
       "    }\n",
       "</style>\n",
       "<table border=\"1\" class=\"dataframe\">\n",
       "  <thead>\n",
       "    <tr style=\"text-align: right;\">\n",
       "      <th></th>\n",
       "      <th>Gender</th>\n",
       "      <th>Height</th>\n",
       "      <th>Weight</th>\n",
       "      <th>Index</th>\n",
       "    </tr>\n",
       "  </thead>\n",
       "  <tbody>\n",
       "    <tr>\n",
       "      <th>0</th>\n",
       "      <td>Male</td>\n",
       "      <td>174</td>\n",
       "      <td>96</td>\n",
       "      <td>4</td>\n",
       "    </tr>\n",
       "    <tr>\n",
       "      <th>1</th>\n",
       "      <td>Male</td>\n",
       "      <td>189</td>\n",
       "      <td>87</td>\n",
       "      <td>2</td>\n",
       "    </tr>\n",
       "    <tr>\n",
       "      <th>2</th>\n",
       "      <td>Female</td>\n",
       "      <td>185</td>\n",
       "      <td>110</td>\n",
       "      <td>4</td>\n",
       "    </tr>\n",
       "    <tr>\n",
       "      <th>3</th>\n",
       "      <td>Female</td>\n",
       "      <td>195</td>\n",
       "      <td>104</td>\n",
       "      <td>3</td>\n",
       "    </tr>\n",
       "    <tr>\n",
       "      <th>4</th>\n",
       "      <td>Male</td>\n",
       "      <td>149</td>\n",
       "      <td>61</td>\n",
       "      <td>3</td>\n",
       "    </tr>\n",
       "    <tr>\n",
       "      <th>5</th>\n",
       "      <td>Male</td>\n",
       "      <td>189</td>\n",
       "      <td>104</td>\n",
       "      <td>3</td>\n",
       "    </tr>\n",
       "    <tr>\n",
       "      <th>6</th>\n",
       "      <td>Male</td>\n",
       "      <td>147</td>\n",
       "      <td>92</td>\n",
       "      <td>5</td>\n",
       "    </tr>\n",
       "    <tr>\n",
       "      <th>7</th>\n",
       "      <td>Male</td>\n",
       "      <td>154</td>\n",
       "      <td>111</td>\n",
       "      <td>5</td>\n",
       "    </tr>\n",
       "    <tr>\n",
       "      <th>8</th>\n",
       "      <td>Male</td>\n",
       "      <td>174</td>\n",
       "      <td>90</td>\n",
       "      <td>3</td>\n",
       "    </tr>\n",
       "    <tr>\n",
       "      <th>9</th>\n",
       "      <td>Female</td>\n",
       "      <td>169</td>\n",
       "      <td>103</td>\n",
       "      <td>4</td>\n",
       "    </tr>\n",
       "  </tbody>\n",
       "</table>\n",
       "</div>"
      ],
      "text/plain": [
       "   Gender  Height  Weight  Index\n",
       "0    Male     174      96      4\n",
       "1    Male     189      87      2\n",
       "2  Female     185     110      4\n",
       "3  Female     195     104      3\n",
       "4    Male     149      61      3\n",
       "5    Male     189     104      3\n",
       "6    Male     147      92      5\n",
       "7    Male     154     111      5\n",
       "8    Male     174      90      3\n",
       "9  Female     169     103      4"
      ]
     },
     "execution_count": 50,
     "metadata": {},
     "output_type": "execute_result"
    }
   ],
   "source": [
    "data=pd.read_csv('E:\\python_3\\knn.csv')\n",
    "data.head(10)"
   ]
  },
  {
   "cell_type": "code",
   "execution_count": 51,
   "metadata": {},
   "outputs": [],
   "source": [
    "real_x=data.iloc[:,[1,2]].values\n",
    "real_y=data.iloc[:,3].values"
   ]
  },
  {
   "cell_type": "code",
   "execution_count": 115,
   "metadata": {},
   "outputs": [
    {
     "data": {
      "text/plain": [
       "array([[178, 154],\n",
       "       [183, 147],\n",
       "       [166, 107],\n",
       "       [159, 140],\n",
       "       [152, 132],\n",
       "       [153, 107],\n",
       "       [188,  99],\n",
       "       [179, 150],\n",
       "       [181, 105],\n",
       "       [168, 140],\n",
       "       [166,  61],\n",
       "       [153,  70],\n",
       "       [167,  58],\n",
       "       [149, 100],\n",
       "       [174, 138],\n",
       "       [185, 102],\n",
       "       [161, 115],\n",
       "       [174,  90],\n",
       "       [155, 111],\n",
       "       [144,  80],\n",
       "       [150,  87],\n",
       "       [185,  94],\n",
       "       [178,  85],\n",
       "       [181, 106],\n",
       "       [185,  76],\n",
       "       [188,  65],\n",
       "       [153, 149],\n",
       "       [186, 127],\n",
       "       [142,  69],\n",
       "       [177,  81],\n",
       "       [153,  77],\n",
       "       [144, 108],\n",
       "       [158, 149],\n",
       "       [154, 100],\n",
       "       [174,  95],\n",
       "       [198,  50],\n",
       "       [180, 156],\n",
       "       [172,  90],\n",
       "       [184, 153],\n",
       "       [174,  65],\n",
       "       [153, 104],\n",
       "       [188, 122],\n",
       "       [169, 110],\n",
       "       [183, 138],\n",
       "       [165, 104],\n",
       "       [189,  87],\n",
       "       [196, 159],\n",
       "       [148,  54],\n",
       "       [162, 130],\n",
       "       [161, 155],\n",
       "       [195, 147],\n",
       "       [187, 136],\n",
       "       [179,  83],\n",
       "       [140,  79],\n",
       "       [158, 153],\n",
       "       [192, 101],\n",
       "       [167,  85],\n",
       "       [196, 131],\n",
       "       [188,  54],\n",
       "       [154,  92],\n",
       "       [176, 122],\n",
       "       [179, 114],\n",
       "       [160,  83],\n",
       "       [180,  59],\n",
       "       [182, 108],\n",
       "       [157,  74],\n",
       "       [195,  81],\n",
       "       [198, 109],\n",
       "       [152, 103],\n",
       "       [197, 154],\n",
       "       [180, 149],\n",
       "       [179, 158],\n",
       "       [155,  71],\n",
       "       [188, 115],\n",
       "       [185, 119],\n",
       "       [151, 158],\n",
       "       [147,  84],\n",
       "       [199, 156],\n",
       "       [146, 147],\n",
       "       [160, 156],\n",
       "       [186, 140],\n",
       "       [170,  81],\n",
       "       [183, 131],\n",
       "       [159, 109],\n",
       "       [164, 160],\n",
       "       [199,  92],\n",
       "       [140, 146],\n",
       "       [168, 160],\n",
       "       [178, 138],\n",
       "       [196, 116],\n",
       "       [173,  82],\n",
       "       [182,  70],\n",
       "       [176,  87],\n",
       "       [184,  57],\n",
       "       [188, 100],\n",
       "       [185,  60],\n",
       "       [172,  92],\n",
       "       [172, 116],\n",
       "       [191,  54],\n",
       "       [191,  96],\n",
       "       [159, 154],\n",
       "       [167, 153],\n",
       "       [178, 117],\n",
       "       [167,  79],\n",
       "       [147,  92],\n",
       "       [181, 154],\n",
       "       [192,  90],\n",
       "       [181, 141],\n",
       "       [151,  82],\n",
       "       [179, 103],\n",
       "       [187, 121],\n",
       "       [154, 111],\n",
       "       [194, 108],\n",
       "       [174,  90],\n",
       "       [145, 141],\n",
       "       [150,  97],\n",
       "       [150, 144],\n",
       "       [192, 139],\n",
       "       [150,  84],\n",
       "       [161, 134],\n",
       "       [178,  79],\n",
       "       [140, 152],\n",
       "       [171, 155],\n",
       "       [141,  80],\n",
       "       [161, 154]], dtype=int64)"
      ]
     },
     "execution_count": 115,
     "metadata": {},
     "output_type": "execute_result"
    }
   ],
   "source": [
    "training_x,test_x,training_y,test_y = train_test_split(real_x,real_y,test_size =0.25, random_state=0)\n",
    "test_x"
   ]
  },
  {
   "cell_type": "code",
   "execution_count": 116,
   "metadata": {},
   "outputs": [],
   "source": [
    "s_c=StandardScaler()\n",
    "training_x = s_c.fit_transform(training_x)\n",
    "test_x = s_c.fit_transform(test_x)"
   ]
  },
  {
   "cell_type": "code",
   "execution_count": 117,
   "metadata": {},
   "outputs": [
    {
     "data": {
      "text/plain": [
       "KNeighborsClassifier(algorithm='auto', leaf_size=30, metric='minkowski',\n",
       "           metric_params=None, n_jobs=None, n_neighbors=5, p=2,\n",
       "           weights='uniform')"
      ]
     },
     "execution_count": 117,
     "metadata": {},
     "output_type": "execute_result"
    }
   ],
   "source": [
    "cls = KNeighborsClassifier(n_neighbors= 5, metric='minkowski',p=2)\n",
    "cls.fit(training_x,training_y)"
   ]
  },
  {
   "cell_type": "code",
   "execution_count": 118,
   "metadata": {},
   "outputs": [
    {
     "data": {
      "text/plain": [
       "array([5, 5, 4, 5, 5, 5, 3, 5, 3, 5, 2, 3, 2, 5, 5, 3, 5, 2, 5, 4, 4, 3,\n",
       "       2, 4, 2, 1, 5, 4, 4, 2, 3, 5, 5, 5, 4, 0, 5, 4, 5, 1, 5, 4, 4, 4,\n",
       "       4, 2, 5, 2, 5, 5, 4, 4, 2, 4, 5, 3, 4, 4, 0, 4, 4, 4, 4, 1, 4, 3,\n",
       "       2, 3, 5, 5, 5, 5, 3, 4, 4, 5, 4, 5, 5, 5, 4, 3, 4, 5, 5, 2, 5, 5,\n",
       "       5, 3, 2, 2, 2, 0, 3, 0, 4, 4, 0, 3, 5, 5, 4, 3, 5, 5, 2, 5, 4, 4,\n",
       "       4, 5, 3, 2, 5, 5, 5, 4, 4, 5, 2, 5, 5, 4, 5], dtype=int64)"
      ]
     },
     "execution_count": 118,
     "metadata": {},
     "output_type": "execute_result"
    }
   ],
   "source": [
    "y_pred=cls.predict(test_x)\n",
    "y_pred"
   ]
  },
  {
   "cell_type": "raw",
   "metadata": {},
   "source": []
  },
  {
   "cell_type": "code",
   "execution_count": 119,
   "metadata": {},
   "outputs": [
    {
     "data": {
      "text/plain": [
       "array([5, 5, 4, 5, 5, 5, 3, 5, 4, 5, 2, 3, 2, 5, 5, 3, 5, 3, 5, 4, 4, 3,\n",
       "       3, 4, 2, 1, 5, 4, 4, 3, 4, 5, 5, 5, 4, 0, 5, 4, 5, 2, 5, 4, 4, 5,\n",
       "       4, 2, 5, 2, 5, 5, 4, 4, 3, 5, 5, 3, 4, 4, 0, 4, 4, 4, 4, 1, 4, 4,\n",
       "       2, 3, 5, 4, 5, 5, 3, 4, 4, 5, 4, 4, 5, 5, 5, 3, 4, 5, 5, 2, 5, 5,\n",
       "       5, 4, 2, 2, 3, 1, 3, 1, 4, 4, 0, 3, 5, 5, 4, 3, 5, 5, 2, 5, 4, 4,\n",
       "       4, 5, 3, 3, 5, 5, 5, 4, 4, 5, 2, 5, 5, 5, 5], dtype=int64)"
      ]
     },
     "execution_count": 119,
     "metadata": {},
     "output_type": "execute_result"
    }
   ],
   "source": [
    "test_y"
   ]
  },
  {
   "cell_type": "code",
   "execution_count": 120,
   "metadata": {},
   "outputs": [
    {
     "data": {
      "text/plain": [
       "array([[ 3,  0,  0,  0,  0,  0],\n",
       "       [ 2,  2,  0,  0,  0,  0],\n",
       "       [ 0,  1, 11,  0,  0,  0],\n",
       "       [ 0,  0,  6, 12,  0,  0],\n",
       "       [ 0,  0,  0,  4, 32,  2],\n",
       "       [ 0,  0,  0,  0,  4, 46]], dtype=int64)"
      ]
     },
     "execution_count": 120,
     "metadata": {},
     "output_type": "execute_result"
    }
   ],
   "source": [
    "c_m = confusion_matrix(test_y,y_pred)\n",
    "c_m"
   ]
  },
  {
   "cell_type": "markdown",
   "metadata": {},
   "source": []
  },
  {
   "cell_type": "code",
   "execution_count": 159,
   "metadata": {},
   "outputs": [
    {
     "ename": "IndentationError",
     "evalue": "unexpected indent (<ipython-input-159-e0504c9e6a93>, line 6)",
     "output_type": "error",
     "traceback": [
      "\u001b[1;36m  File \u001b[1;32m\"<ipython-input-159-e0504c9e6a93>\"\u001b[1;36m, line \u001b[1;32m6\u001b[0m\n\u001b[1;33m    alpha = 0.75, cmap = ListedColormap(('red','green')))\u001b[0m\n\u001b[1;37m    ^\u001b[0m\n\u001b[1;31mIndentationError\u001b[0m\u001b[1;31m:\u001b[0m unexpected indent\n"
     ]
    }
   ],
   "source": [
    "from matplotlib.colors import ListedColormap\n",
    "x_set,y_set=training_x,training_y\n",
    "x1,x2=np.meshgrid(np.arange(start = x_set[:, 0].min() -1, stop =x_set[:, 0].max() +1, step=0.01),\n",
    "                  np.arange(start = x_set[:, 1].min() -1, stop =x_set[:, 1].max() +1, step=0.01))\n",
    "plt.contourf(x1, x2, cls.predict(np.array[x1.ravel(), x2.ravel()]).T).reshape(x1.shape),\n",
    "   alpha = 0.75, cmap = ListedColormap(('red','green')))\n",
    "plt.xlim(x1.min(),x1.max())\n",
    "plt.ylim(x2.min(),x2.max())\n",
    "\n",
    "for i, j in enumerate(np.unique(y_set)):\n",
    "    plt.scatter(x_set[y_set==j,0],x_set[y_set==j,1],\n",
    "               c = ListedColormap(('red','green'))(i), label =j)\n",
    "plt.title('K-NN(Training Set)')    \n",
    "plt.xlabel('Age')\n",
    "plt.ylabel('Estimated Salary')\n",
    "plt.legend()\n",
    "plt.show()"
   ]
  },
  {
   "cell_type": "code",
   "execution_count": 163,
   "metadata": {},
   "outputs": [
    {
     "data": {
      "image/png": "[encoded data removed]",
      "text/plain": [
       "<Figure size 432x288 with 1 Axes>"
      ]
     },
     "metadata": {
      "needs_background": "light"
     },
     "output_type": "display_data"
    }
   ],
   "source": [
    "from matplotlib.colors import ListedColormap\n",
    "x_set,y_set=training_x,training_y\n",
    "x1,x2=np.meshgrid(np.arange(start = x_set[:, 0].min() -1, stop =x_set[:, 0].max() +1, step=0.01),\n",
    "                  np.arange(start = x_set[:, 1].min() -1, stop =x_set[:, 1].max() +1, step=0.01))\n",
    "\n",
    "plt.xlim(x1.min(),x1.max())\n",
    "plt.ylim(x2.min(),x2.max())\n",
    "for i, j in enumerate(np.unique(y_set)):\n",
    "    plt.scatter(x_set[y_set==j,0],x_set[y_set==j,1],\n",
    "               c = ListedColormap(('red','green','blue','violet','brown','orange'))(i), label =j)\n",
    "plt.title('K-NN Algorithm')    \n",
    "plt.xlabel('Height')\n",
    "plt.ylabel('Weight')\n",
    "plt.legend()\n",
    "plt.show()"
   ]
  },
  {
   "cell_type": "code",
   "execution_count": null,
   "metadata": {},
   "outputs": [],
   "source": []
  },
  {
   "cell_type": "code",
   "execution_count": null,
   "metadata": {},
   "outputs": [],
   "source": []
  }
 ],
 "metadata": {
  "kernelspec": {
   "display_name": "Python 2",
   "language": "python",
   "name": "python2"
  },
  "language_info": {
   "codemirror_mode": {
    "name": "ipython",
    "version": 2
   },
   "file_extension": ".py",
   "mimetype": "text/x-python",
   "name": "python",
   "nbconvert_exporter": "python",
   "pygments_lexer": "ipython2",
   "version": "2.7.16"
  }
 },
 "nbformat": 4,
 "nbformat_minor": 2
}
